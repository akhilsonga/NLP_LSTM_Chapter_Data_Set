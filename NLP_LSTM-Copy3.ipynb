{
 "cells": [
  {
   "cell_type": "code",
   "execution_count": 1,
   "id": "be54694a",
   "metadata": {},
   "outputs": [],
   "source": [
    "import spacy\n",
    "import numpy as np"
   ]
  },
  {
   "cell_type": "code",
   "execution_count": 2,
   "id": "f630b322",
   "metadata": {},
   "outputs": [],
   "source": [
    "file = open(r\"C:\\Users\\akhil\\OneDrive\\Desktop\\Natural-Language-Processing-with-Python-master\\06-Deep-Learning\\moby_dick_four_chapters.txt\")"
   ]
  },
  {
   "cell_type": "code",
   "execution_count": 3,
   "id": "45c2f669",
   "metadata": {},
   "outputs": [],
   "source": [
    "fe = file.read()\n",
    "#print(fe)"
   ]
  },
  {
   "cell_type": "code",
   "execution_count": 4,
   "id": "5858b914",
   "metadata": {
    "scrolled": true
   },
   "outputs": [
    {
     "name": "stdout",
     "output_type": "stream",
     "text": [
      "11338\n",
      "tokens:  ['call', 'me', 'ishmael', 'some', 'years', 'ago', 'never', 'mind', 'how', 'long', 'precisely', 'having', 'little', 'or', 'no', 'money', 'in', 'my', 'purse', 'and', 'nothing', 'particular', 'to', 'interest', 'me', 'on', 'shore', 'i', 'thought', 'i']\n"
     ]
    },
    {
     "name": "stderr",
     "output_type": "stream",
     "text": [
      "C:\\Users\\akhil\\anaconda3\\lib\\site-packages\\spacy\\pipeline\\lemmatizer.py:211: UserWarning: [W108] The rule-based lemmatizer did not find POS annotation for one or more tokens. Check that your pipeline includes components that assign token.pos, typically 'tagger'+'attribute_ruler' or 'morphologizer'.\n",
      "  warnings.warn(Warnings.W108)\n"
     ]
    }
   ],
   "source": [
    "nlp = spacy.load('en_core_web_sm', disable=['parser','tagger','ner'])\n",
    "nlp.max_length = 1198623\n",
    "\n",
    "\n",
    "def separate_punc(doc_text):\n",
    "    return [token.text.lower() for token in nlp(doc_text) if token.text not in '\\n\\n \\n\\n\\n!\"-#$%&()--.*+,-/:;<=>?@[\\\\]^_`{|}~\\t\\n ']                                 \n",
    "\n",
    "\n",
    "tokens = separate_punc(fe) \n",
    "print(len(tokens))\n",
    "print(\"tokens: \",tokens[:30])"
   ]
  },
  {
   "cell_type": "code",
   "execution_count": 5,
   "id": "44263bb2",
   "metadata": {},
   "outputs": [
    {
     "name": "stdout",
     "output_type": "stream",
     "text": [
      "Sequence No.0:  call me ishmael some years ago never mind how long precisely having little or no money in my purse and nothing particular to interest me on\n",
      "Sequence No.1:  me ishmael some years ago never mind how long precisely having little or no money in my purse and nothing particular to interest me on shore\n",
      "Sequence No.2:  ishmael some years ago never mind how long precisely having little or no money in my purse and nothing particular to interest me on shore i\n",
      "\n",
      "Length of all sequences:  11312\n"
     ]
    }
   ],
   "source": [
    "train_len = 26\n",
    "text_sequences = []\n",
    "for i in range(train_len, len(tokens)):\n",
    "    seq = tokens[i-train_len:i]\n",
    "    text_sequences.append(seq)\n",
    "\n",
    "for i in range(3):\n",
    "    print(f\"Sequence No.{i}: \",' '.join(text_sequences[i]))\n",
    "print(\"\\nLength of all sequences: \",len(text_sequences))    "
   ]
  },
  {
   "cell_type": "code",
   "execution_count": 6,
   "id": "4ef1e2c6",
   "metadata": {},
   "outputs": [
    {
     "name": "stdout",
     "output_type": "stream",
     "text": [
      "Sequences:  [956, 14, 263, 51, 261, 408, 87, 219, 129, 111, 954, 260, 50, 43, 38, 314, 7, 23, 546, 3, 150, 259, 6, 2713, 14, 24]\n"
     ]
    }
   ],
   "source": [
    "from keras.preprocessing.text import Tokenizer\n",
    "tokenizer = Tokenizer()\n",
    "tokenizer.fit_on_texts(text_sequences)\n",
    "sequences = tokenizer.texts_to_sequences(text_sequences)\n",
    "print(\"Sequences: \",sequences[0])\n",
    "#print(\"\\n token Index: \\n\",tokenizer.index_word)"
   ]
  },
  {
   "cell_type": "code",
   "execution_count": 7,
   "id": "bf1244b0",
   "metadata": {},
   "outputs": [],
   "source": [
    "# for i in sequences[0]:\n",
    "#     print(f\"{i}: {tokenizer.word_counts}\")"
   ]
  },
  {
   "cell_type": "code",
   "execution_count": 80,
   "id": "2c06d56e",
   "metadata": {},
   "outputs": [
    {
     "name": "stdout",
     "output_type": "stream",
     "text": [
      "vocabulary_size:  2718\n",
      "[[ 956   14  263 ... 2713   14   24]\n",
      " [  14  263   51 ...   14   24  957]\n",
      " [ 263   51  261 ...   24  957    5]\n",
      " ...\n",
      " [ 952   12  166 ...  262   53    2]\n",
      " [  12  166 2712 ...   53    2 2718]\n",
      " [ 166 2712    3 ...    2 2718   26]]\n"
     ]
    }
   ],
   "source": [
    "vocabulary_size = len(tokenizer.word_counts)\n",
    "print(\"vocabulary_size: \",vocabulary_size)\n",
    "sequences = np.array(sequences)\n",
    "print(sequences)"
   ]
  },
  {
   "cell_type": "code",
   "execution_count": 107,
   "id": "2b5a8e34",
   "metadata": {},
   "outputs": [],
   "source": [
    "import keras\n",
    "from keras.models import Sequential\n",
    "from keras.layers import Dense,LSTM,Embedding\n",
    "\n",
    "def create_model(vocabulary_size, seq_len):\n",
    "    model = Sequential()\n",
    "    model.add(Embedding(vocabulary_size,25,input_length = seq_len))\n",
    "    model.add(LSTM(150,return_sequences = True))\n",
    "    model.add(LSTM(150))\n",
    "    model.add(Dense(150,activation = 'relu'))\n",
    "    model.add(Dense(vocabulary_size, activation = 'softmax'))\n",
    "    model.compile(loss = 'categorical_crossentropy', optimizer='adam', metrics = ['accuracy'])\n",
    "    model.summary()\n",
    "    \n",
    "    return model"
   ]
  },
  {
   "cell_type": "code",
   "execution_count": 108,
   "id": "7bed16b7",
   "metadata": {},
   "outputs": [
    {
     "name": "stdout",
     "output_type": "stream",
     "text": [
      "[[ 956   14  263 ... 2713   14   24]\n",
      " [  14  263   51 ...   14   24  957]\n",
      " [ 263   51  261 ...   24  957    5]\n",
      " ...\n",
      " [ 952   12  166 ...  262   53    2]\n",
      " [  12  166 2712 ...   53    2 2718]\n",
      " [ 166 2712    3 ...    2 2718   26]]\n",
      "\n",
      "except last row:\n",
      " [[ 956   14  263 ...    6 2713   14]\n",
      " [  14  263   51 ... 2713   14   24]\n",
      " [ 263   51  261 ...   14   24  957]\n",
      " ...\n",
      " [ 952   12  166 ...   11  262   53]\n",
      " [  12  166 2712 ...  262   53    2]\n",
      " [ 166 2712    3 ...   53    2 2718]]\n",
      "\n",
      "\n",
      "Sequential Length:  25\n"
     ]
    }
   ],
   "source": [
    "from keras.utils import to_categorical\n",
    "print(sequences)\n",
    "print(\"\\nexcept last row:\\n\",sequences[:,:-1])\n",
    "X = sequences[:,:-1]\n",
    "y = sequences[:,-1]\n",
    "y = to_categorical(y,num_classes = vocabulary_size + 1)\n",
    "seq_len = X.shape[1]\n",
    "print(\"\\n\\nSequential Length: \",seq_len)"
   ]
  },
  {
   "cell_type": "code",
   "execution_count": 109,
   "id": "d8c64bf6",
   "metadata": {},
   "outputs": [
    {
     "name": "stdout",
     "output_type": "stream",
     "text": [
      "Model: \"sequential_3\"\n",
      "_________________________________________________________________\n",
      " Layer (type)                Output Shape              Param #   \n",
      "=================================================================\n",
      " embedding (Embedding)       (None, 25, 25)            67975     \n",
      "                                                                 \n",
      " lstm (LSTM)                 (None, 25, 150)           105600    \n",
      "                                                                 \n",
      " lstm_1 (LSTM)               (None, 150)               180600    \n",
      "                                                                 \n",
      " dense (Dense)               (None, 150)               22650     \n",
      "                                                                 \n",
      " dense_1 (Dense)             (None, 2719)              410569    \n",
      "                                                                 \n",
      "=================================================================\n",
      "Total params: 787,394\n",
      "Trainable params: 787,394\n",
      "Non-trainable params: 0\n",
      "_________________________________________________________________\n"
     ]
    }
   ],
   "source": [
    "model = create_model(vocabulary_size+1, seq_len)"
   ]
  },
  {
   "cell_type": "code",
   "execution_count": 111,
   "id": "641e24ae",
   "metadata": {},
   "outputs": [
    {
     "name": "stdout",
     "output_type": "stream",
     "text": [
      "Epoch 1/100\n",
      "89/89 [==============================] - 11s 91ms/step - loss: 6.8501 - accuracy: 0.0443\n",
      "Epoch 2/100\n",
      "89/89 [==============================] - 8s 95ms/step - loss: 6.3855 - accuracy: 0.0529\n",
      "Epoch 3/100\n",
      "89/89 [==============================] - 8s 88ms/step - loss: 6.3554 - accuracy: 0.0529\n",
      "Epoch 4/100\n",
      "89/89 [==============================] - 8s 89ms/step - loss: 6.2570 - accuracy: 0.0529\n",
      "Epoch 5/100\n",
      "89/89 [==============================] - 8s 88ms/step - loss: 6.1398 - accuracy: 0.0529\n",
      "Epoch 6/100\n",
      "89/89 [==============================] - 8s 89ms/step - loss: 6.0567 - accuracy: 0.0544\n",
      "Epoch 7/100\n",
      "89/89 [==============================] - 8s 89ms/step - loss: 5.9474 - accuracy: 0.0652\n",
      "Epoch 8/100\n",
      "89/89 [==============================] - 8s 88ms/step - loss: 5.8306 - accuracy: 0.0675\n",
      "Epoch 9/100\n",
      "89/89 [==============================] - 8s 86ms/step - loss: 5.7379 - accuracy: 0.0682\n",
      "Epoch 10/100\n",
      "89/89 [==============================] - 8s 88ms/step - loss: 5.6639 - accuracy: 0.0720\n",
      "Epoch 11/100\n",
      "89/89 [==============================] - 8s 86ms/step - loss: 5.6062 - accuracy: 0.0745\n",
      "Epoch 12/100\n",
      "89/89 [==============================] - 8s 86ms/step - loss: 5.5552 - accuracy: 0.0760\n",
      "Epoch 13/100\n",
      "89/89 [==============================] - 8s 87ms/step - loss: 5.5112 - accuracy: 0.0777\n",
      "Epoch 14/100\n",
      "89/89 [==============================] - 8s 89ms/step - loss: 5.4580 - accuracy: 0.0774\n",
      "Epoch 15/100\n",
      "89/89 [==============================] - 8s 87ms/step - loss: 5.4084 - accuracy: 0.0822\n",
      "Epoch 16/100\n",
      "89/89 [==============================] - 8s 86ms/step - loss: 5.3567 - accuracy: 0.0827\n",
      "Epoch 17/100\n",
      "89/89 [==============================] - 8s 86ms/step - loss: 5.3093 - accuracy: 0.0830\n",
      "Epoch 18/100\n",
      "89/89 [==============================] - 8s 86ms/step - loss: 5.2540 - accuracy: 0.0861\n",
      "Epoch 19/100\n",
      "89/89 [==============================] - 8s 85ms/step - loss: 5.2063 - accuracy: 0.0877\n",
      "Epoch 20/100\n",
      "89/89 [==============================] - 8s 87ms/step - loss: 5.1622 - accuracy: 0.0885\n",
      "Epoch 21/100\n",
      "89/89 [==============================] - 8s 85ms/step - loss: 5.1120 - accuracy: 0.0889\n",
      "Epoch 22/100\n",
      "89/89 [==============================] - 8s 87ms/step - loss: 5.0674 - accuracy: 0.0889\n",
      "Epoch 23/100\n",
      "89/89 [==============================] - 8s 86ms/step - loss: 5.0248 - accuracy: 0.0909\n",
      "Epoch 24/100\n",
      "89/89 [==============================] - 8s 86ms/step - loss: 4.9781 - accuracy: 0.0916\n",
      "Epoch 25/100\n",
      "89/89 [==============================] - 8s 90ms/step - loss: 4.9342 - accuracy: 0.0935\n",
      "Epoch 26/100\n",
      "89/89 [==============================] - 8s 88ms/step - loss: 4.8921 - accuracy: 0.0954\n",
      "Epoch 27/100\n",
      "89/89 [==============================] - 8s 88ms/step - loss: 4.8454 - accuracy: 0.0969\n",
      "Epoch 28/100\n",
      "89/89 [==============================] - 8s 89ms/step - loss: 4.8011 - accuracy: 0.0997\n",
      "Epoch 29/100\n",
      "89/89 [==============================] - 8s 88ms/step - loss: 4.7525 - accuracy: 0.1040\n",
      "Epoch 30/100\n",
      "89/89 [==============================] - 8s 88ms/step - loss: 4.7078 - accuracy: 0.1021\n",
      "Epoch 31/100\n",
      "89/89 [==============================] - 8s 88ms/step - loss: 4.6647 - accuracy: 0.1048\n",
      "Epoch 32/100\n",
      "89/89 [==============================] - 8s 87ms/step - loss: 4.6273 - accuracy: 0.1078\n",
      "Epoch 33/100\n",
      "89/89 [==============================] - 8s 90ms/step - loss: 4.5862 - accuracy: 0.1049\n",
      "Epoch 34/100\n",
      "89/89 [==============================] - 8s 89ms/step - loss: 4.5498 - accuracy: 0.1102\n",
      "Epoch 35/100\n",
      "89/89 [==============================] - 8s 89ms/step - loss: 4.5129 - accuracy: 0.1101\n",
      "Epoch 36/100\n",
      "89/89 [==============================] - 8s 87ms/step - loss: 4.4805 - accuracy: 0.1125\n",
      "Epoch 37/100\n",
      "89/89 [==============================] - 8s 88ms/step - loss: 4.4420 - accuracy: 0.1139\n",
      "Epoch 38/100\n",
      "89/89 [==============================] - 8s 88ms/step - loss: 4.4095 - accuracy: 0.1146\n",
      "Epoch 39/100\n",
      "89/89 [==============================] - 8s 87ms/step - loss: 4.3741 - accuracy: 0.1165\n",
      "Epoch 40/100\n",
      "89/89 [==============================] - 8s 87ms/step - loss: 4.3457 - accuracy: 0.1154\n",
      "Epoch 41/100\n",
      "89/89 [==============================] - 8s 89ms/step - loss: 4.3132 - accuracy: 0.1188\n",
      "Epoch 42/100\n",
      "89/89 [==============================] - 8s 88ms/step - loss: 4.2775 - accuracy: 0.1186\n",
      "Epoch 43/100\n",
      "89/89 [==============================] - 8s 88ms/step - loss: 4.2473 - accuracy: 0.1208\n",
      "Epoch 44/100\n",
      "89/89 [==============================] - 8s 88ms/step - loss: 4.2183 - accuracy: 0.1253\n",
      "Epoch 45/100\n",
      "89/89 [==============================] - 8s 88ms/step - loss: 4.1877 - accuracy: 0.1239\n",
      "Epoch 46/100\n",
      "89/89 [==============================] - 8s 89ms/step - loss: 4.1646 - accuracy: 0.1262\n",
      "Epoch 47/100\n",
      "89/89 [==============================] - 8s 88ms/step - loss: 4.1343 - accuracy: 0.1285\n",
      "Epoch 48/100\n",
      "89/89 [==============================] - 8s 89ms/step - loss: 4.1056 - accuracy: 0.1305\n",
      "Epoch 49/100\n",
      "89/89 [==============================] - 8s 90ms/step - loss: 4.0810 - accuracy: 0.1307\n",
      "Epoch 50/100\n",
      "89/89 [==============================] - 8s 91ms/step - loss: 4.0432 - accuracy: 0.1330\n",
      "Epoch 51/100\n",
      "89/89 [==============================] - 8s 92ms/step - loss: 4.0210 - accuracy: 0.1350\n",
      "Epoch 52/100\n",
      "89/89 [==============================] - 8s 88ms/step - loss: 3.9962 - accuracy: 0.1341\n",
      "Epoch 53/100\n",
      "89/89 [==============================] - 8s 88ms/step - loss: 3.9697 - accuracy: 0.1381\n",
      "Epoch 54/100\n",
      "89/89 [==============================] - 8s 88ms/step - loss: 3.9431 - accuracy: 0.1380\n",
      "Epoch 55/100\n",
      "89/89 [==============================] - 8s 87ms/step - loss: 3.9155 - accuracy: 0.1455\n",
      "Epoch 56/100\n",
      "89/89 [==============================] - 8s 87ms/step - loss: 3.8940 - accuracy: 0.1427\n",
      "Epoch 57/100\n",
      "89/89 [==============================] - 8s 89ms/step - loss: 3.8630 - accuracy: 0.1508\n",
      "Epoch 58/100\n",
      "89/89 [==============================] - 8s 87ms/step - loss: 3.8325 - accuracy: 0.1500\n",
      "Epoch 59/100\n",
      "89/89 [==============================] - 8s 88ms/step - loss: 3.8176 - accuracy: 0.1483\n",
      "Epoch 60/100\n",
      "89/89 [==============================] - 8s 90ms/step - loss: 3.7870 - accuracy: 0.1516\n",
      "Epoch 61/100\n",
      "89/89 [==============================] - 8s 89ms/step - loss: 3.7669 - accuracy: 0.1530\n",
      "Epoch 62/100\n",
      "89/89 [==============================] - 8s 87ms/step - loss: 3.7353 - accuracy: 0.1603\n",
      "Epoch 63/100\n",
      "89/89 [==============================] - 8s 88ms/step - loss: 3.7130 - accuracy: 0.1620\n",
      "Epoch 64/100\n",
      "89/89 [==============================] - 8s 88ms/step - loss: 3.6886 - accuracy: 0.1620\n",
      "Epoch 65/100\n",
      "89/89 [==============================] - 8s 87ms/step - loss: 3.6585 - accuracy: 0.1695\n",
      "Epoch 66/100\n",
      "89/89 [==============================] - 8s 86ms/step - loss: 3.6466 - accuracy: 0.1680\n",
      "Epoch 67/100\n",
      "89/89 [==============================] - 8s 87ms/step - loss: 3.6196 - accuracy: 0.1716\n",
      "Epoch 68/100\n",
      "89/89 [==============================] - 8s 87ms/step - loss: 3.5942 - accuracy: 0.1720\n",
      "Epoch 69/100\n",
      "89/89 [==============================] - 8s 89ms/step - loss: 3.5697 - accuracy: 0.1748\n",
      "Epoch 70/100\n",
      "89/89 [==============================] - 8s 89ms/step - loss: 3.5447 - accuracy: 0.1803\n",
      "Epoch 71/100\n",
      "89/89 [==============================] - 8s 89ms/step - loss: 3.5223 - accuracy: 0.1854\n",
      "Epoch 72/100\n",
      "89/89 [==============================] - 8s 93ms/step - loss: 3.4980 - accuracy: 0.1882\n",
      "Epoch 73/100\n",
      "89/89 [==============================] - 8s 88ms/step - loss: 3.4722 - accuracy: 0.1925\n",
      "Epoch 74/100\n",
      "89/89 [==============================] - 8s 88ms/step - loss: 3.4554 - accuracy: 0.1882\n",
      "Epoch 75/100\n",
      "89/89 [==============================] - 8s 90ms/step - loss: 3.4260 - accuracy: 0.1940\n",
      "Epoch 76/100\n",
      "89/89 [==============================] - 8s 90ms/step - loss: 3.4042 - accuracy: 0.1977\n",
      "Epoch 77/100\n",
      "89/89 [==============================] - 8s 90ms/step - loss: 3.3822 - accuracy: 0.2016\n",
      "Epoch 78/100\n",
      "89/89 [==============================] - 8s 90ms/step - loss: 3.3758 - accuracy: 0.2032\n",
      "Epoch 79/100\n",
      "89/89 [==============================] - 8s 91ms/step - loss: 3.3465 - accuracy: 0.2040\n",
      "Epoch 80/100\n",
      "89/89 [==============================] - 8s 91ms/step - loss: 3.3208 - accuracy: 0.2122\n",
      "Epoch 81/100\n",
      "89/89 [==============================] - 8s 93ms/step - loss: 3.2963 - accuracy: 0.2134\n",
      "Epoch 82/100\n",
      "89/89 [==============================] - 8s 92ms/step - loss: 3.2781 - accuracy: 0.2170\n",
      "Epoch 83/100\n",
      "89/89 [==============================] - 8s 92ms/step - loss: 3.2506 - accuracy: 0.2236\n",
      "Epoch 84/100\n",
      "89/89 [==============================] - 8s 92ms/step - loss: 3.2341 - accuracy: 0.2247\n",
      "Epoch 85/100\n",
      "89/89 [==============================] - 9s 98ms/step - loss: 3.2145 - accuracy: 0.2285\n",
      "Epoch 86/100\n",
      "89/89 [==============================] - 8s 93ms/step - loss: 3.2041 - accuracy: 0.2306\n",
      "Epoch 87/100\n",
      "89/89 [==============================] - 8s 93ms/step - loss: 3.2521 - accuracy: 0.2168\n",
      "Epoch 88/100\n",
      "89/89 [==============================] - 8s 91ms/step - loss: 3.1897 - accuracy: 0.2306\n",
      "Epoch 89/100\n",
      "89/89 [==============================] - 8s 91ms/step - loss: 3.1445 - accuracy: 0.2385\n",
      "Epoch 90/100\n",
      "89/89 [==============================] - 8s 92ms/step - loss: 3.1238 - accuracy: 0.2470\n",
      "Epoch 91/100\n",
      "89/89 [==============================] - 8s 92ms/step - loss: 3.1123 - accuracy: 0.2489\n",
      "Epoch 92/100\n",
      "89/89 [==============================] - 8s 91ms/step - loss: 3.0869 - accuracy: 0.2519\n",
      "Epoch 93/100\n",
      "89/89 [==============================] - 8s 91ms/step - loss: 3.0737 - accuracy: 0.2543\n",
      "Epoch 94/100\n",
      "89/89 [==============================] - 8s 92ms/step - loss: 3.0589 - accuracy: 0.2569\n",
      "Epoch 95/100\n",
      "89/89 [==============================] - 8s 92ms/step - loss: 3.0344 - accuracy: 0.2597\n",
      "Epoch 96/100\n",
      "89/89 [==============================] - 8s 92ms/step - loss: 3.0138 - accuracy: 0.2626\n",
      "Epoch 97/100\n",
      "89/89 [==============================] - 8s 93ms/step - loss: 2.9973 - accuracy: 0.2651\n",
      "Epoch 98/100\n",
      "89/89 [==============================] - 8s 93ms/step - loss: 2.9778 - accuracy: 0.2717\n",
      "Epoch 99/100\n",
      "89/89 [==============================] - 8s 93ms/step - loss: 2.9546 - accuracy: 0.2777\n",
      "Epoch 100/100\n",
      "89/89 [==============================] - 8s 95ms/step - loss: 2.9473 - accuracy: 0.2771\n"
     ]
    },
    {
     "data": {
      "text/plain": [
       "<keras.callbacks.History at 0x1e203965a90>"
      ]
     },
     "execution_count": 111,
     "metadata": {},
     "output_type": "execute_result"
    }
   ],
   "source": [
    "from pickle import dump, load\n",
    "\n",
    "model.fit(X,y,batch_size=128,epochs = 100,verbose =1)"
   ]
  },
  {
   "cell_type": "code",
   "execution_count": 112,
   "id": "0e827d84",
   "metadata": {},
   "outputs": [],
   "source": [
    "model.save('NLP_LSTM_K.h5')"
   ]
  },
  {
   "cell_type": "code",
   "execution_count": 114,
   "id": "41fef4fe",
   "metadata": {},
   "outputs": [],
   "source": [
    "dump(tokenizer, open('NLP_LSTM_k.h5', 'wb'))"
   ]
  },
  {
   "cell_type": "code",
   "execution_count": null,
   "id": "d2a1aa16",
   "metadata": {},
   "outputs": [],
   "source": []
  },
  {
   "cell_type": "code",
   "execution_count": null,
   "id": "ab052529",
   "metadata": {},
   "outputs": [],
   "source": []
  }
 ],
 "metadata": {
  "kernelspec": {
   "display_name": "Python 3 (ipykernel)",
   "language": "python",
   "name": "python3"
  },
  "language_info": {
   "codemirror_mode": {
    "name": "ipython",
    "version": 3
   },
   "file_extension": ".py",
   "mimetype": "text/x-python",
   "name": "python",
   "nbconvert_exporter": "python",
   "pygments_lexer": "ipython3",
   "version": "3.9.12"
  }
 },
 "nbformat": 4,
 "nbformat_minor": 5
}
